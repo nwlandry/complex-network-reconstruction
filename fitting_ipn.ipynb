{
 "cells": [
  {
   "cell_type": "code",
   "execution_count": null,
   "metadata": {},
   "outputs": [],
   "source": [
    "%load_ext autoreload\n",
    "%autoreload 2"
   ]
  },
  {
   "cell_type": "code",
   "execution_count": null,
   "metadata": {},
   "outputs": [],
   "source": [
    "import numpy as np\n",
    "import matplotlib.pyplot as plt\n",
    "from lcs import *\n",
    "import networkx as nx"
   ]
  },
  {
   "cell_type": "code",
   "execution_count": null,
   "metadata": {},
   "outputs": [],
   "source": [
    "G = nx.karate_club_graph()\n",
    "A = nx.adjacency_matrix(G, weight=None).todense()\n",
    "n = A.shape[0]"
   ]
  },
  {
   "cell_type": "code",
   "execution_count": null,
   "metadata": {},
   "outputs": [],
   "source": [
    "b0 = 0.5\n",
    "a = 0.01\n",
    "alpha = 1\n",
    "max_iter = 100\n",
    "tol = 1e-3\n",
    "\n",
    "cf1 = lambda nu, b: 1 - (1 - b) ** nu\n",
    "cf2 = lambda nu, b: b * (nu >= 2)\n",
    "\n",
    "gamma = 0.1\n",
    "b = 0.03\n",
    "rho0 = 1\n",
    "tmax = 1000\n",
    "\n",
    "realizations = 100\n",
    "\n",
    "x0 = np.zeros(n)\n",
    "x0[list(random.sample(range(n), int(rho0 * n)))] = 1\n",
    "c1 = cf1(np.arange(n), b)"
   ]
  },
  {
   "cell_type": "code",
   "execution_count": null,
   "metadata": {},
   "outputs": [],
   "source": [
    "# mean fitting\n",
    "mode = \"mean\"\n",
    "ipn_c1 = 0\n",
    "for _ in range(realizations):\n",
    "    x = contagion_process(A, gamma, c1, x0, tmin=0, tmax=tmax)\n",
    "    ipn_c1 += infections_per_node(x, mode) / realizations\n",
    "\n",
    "f = lambda b: ipn_func(b, ipn_c1, cf2, gamma, A, rho0, 100, tmax, mode)\n",
    "b1, bvec1, fvec1 = robbins_monro_solve(\n",
    "    f, b0, a, alpha, max_iter, tol, verbose=True, loss=\"function\", return_values=True\n",
    ")\n",
    "\n",
    "# median fitting\n",
    "mode = \"median\"\n",
    "ipn_c1 = 0\n",
    "for _ in range(realizations):\n",
    "    x = contagion_process(A, gamma, c1, x0, tmin=0, tmax=tmax)\n",
    "    ipn_c1 += infections_per_node(x, mode) / realizations\n",
    "\n",
    "f = lambda b: ipn_func(b, ipn_c1, cf2, gamma, A, rho0, 100, tmax, mode)\n",
    "b2, bvec2, fvec2 = robbins_monro_solve(\n",
    "    f, b0, a, alpha, max_iter, tol, verbose=True, loss=\"function\", return_values=True\n",
    ")\n",
    "\n",
    "# max fitting\n",
    "mode = \"max\"\n",
    "ipn_c1 = 0\n",
    "for _ in range(realizations):\n",
    "    x = contagion_process(A, gamma, c1, x0, tmin=0, tmax=tmax)\n",
    "    ipn_c1 += infections_per_node(x, mode) / realizations\n",
    "\n",
    "f = lambda b: ipn_func(b, ipn_c1, cf2, gamma, A, rho0, 100, tmax, mode)\n",
    "b3, bvec3, fvec3 = robbins_monro_solve(\n",
    "    f, b0, a, alpha, max_iter, tol, verbose=True, loss=\"function\", return_values=True\n",
    ")"
   ]
  },
  {
   "cell_type": "code",
   "execution_count": null,
   "metadata": {},
   "outputs": [],
   "source": [
    "plt.figure()\n",
    "plt.subplot(121)\n",
    "plt.plot(bvec1, label=\"mean\")\n",
    "plt.plot(bvec2, label=\"median\")\n",
    "plt.plot(bvec3, label=\"max\")\n",
    "plt.xlabel(\"iterations\")\n",
    "plt.ylabel(\"fitted probability\")\n",
    "\n",
    "plt.subplot(122)\n",
    "plt.plot(fvec1, label=\"mean\")\n",
    "plt.plot(fvec2, label=\"median\")\n",
    "plt.plot(fvec3, label=\"max\")\n",
    "plt.legend()\n",
    "plt.xlabel(\"iterations\")\n",
    "plt.ylabel(\"diff. between expected IPNs\")\n",
    "plt.tight_layout()\n",
    "\n",
    "plt.savefig(\"test.png\", dpi=1000)"
   ]
  }
 ],
 "metadata": {
  "kernelspec": {
   "display_name": "hyper",
   "language": "python",
   "name": "python3"
  },
  "language_info": {
   "codemirror_mode": {
    "name": "ipython",
    "version": 3
   },
   "file_extension": ".py",
   "mimetype": "text/x-python",
   "name": "python",
   "nbconvert_exporter": "python",
   "pygments_lexer": "ipython3",
   "version": "3.10.0"
  },
  "orig_nbformat": 4
 },
 "nbformat": 4,
 "nbformat_minor": 2
}
