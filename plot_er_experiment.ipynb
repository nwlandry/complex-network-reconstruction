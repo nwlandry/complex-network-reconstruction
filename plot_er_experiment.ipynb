{
 "cells": [
  {
   "cell_type": "code",
   "execution_count": null,
   "metadata": {},
   "outputs": [],
   "source": [
    "import numpy as np\n",
    "import matplotlib.pyplot as plt\n",
    "from src import *\n",
    "import os\n",
    "import json"
   ]
  },
  {
   "cell_type": "code",
   "execution_count": null,
   "metadata": {},
   "outputs": [],
   "source": [
    "mean_infections = []\n",
    "ps = []\n",
    "plist = set()\n",
    "clist = set()\n",
    "rlist = set()\n",
    "beta = []\n",
    "frac = []\n",
    "\n",
    "\n",
    "data_dir = \"Data/erdos-renyi_experiment/\"\n",
    "for f in os.listdir(data_dir):\n",
    "\n",
    "    d = f.split(\".json\")[0].split(\"-\")\n",
    "    p = float(d[0])\n",
    "    c = int(d[1])\n",
    "    r = int(d[2])\n",
    "\n",
    "    plist.add(p)\n",
    "    clist.add(c)\n",
    "    rlist.add(r)\n",
    "\n",
    "clist = sorted(clist)\n",
    "plist = sorted(plist)\n",
    "rlist = sorted(rlist)\n",
    "\n",
    "c_dict = dict(zip(clist, range(len(clist))))\n",
    "p_dict = dict(zip(plist, range(len(plist))))\n",
    "r_dict = dict(zip(rlist, range(len(rlist))))\n",
    "\n",
    "\n",
    "psmat = np.zeros((len(clist), len(plist), len(rlist)))\n",
    "spsmat = np.zeros((len(clist), len(plist), len(rlist)))\n",
    "ipn = np.zeros((len(clist), len(plist), len(rlist)))\n",
    "\n",
    "for f in os.listdir(data_dir):\n",
    "    d = f.split(\".json\")[0].split(\"-\")\n",
    "    p = float(d[0])\n",
    "    c = int(d[1])\n",
    "    r = int(d[2])\n",
    "\n",
    "    i = c_dict[c]\n",
    "    j = p_dict[p]\n",
    "    k = r_dict[r]\n",
    "\n",
    "    fname = os.path.join(data_dir, f)\n",
    "\n",
    "    with open(fname, \"r\") as file:\n",
    "        data = json.loads(file.read())\n",
    "\n",
    "    x = np.array(data[\"x\"])\n",
    "    A = np.array(data[\"A\"])\n",
    "    samples = np.array(data[\"samples\"])\n",
    "\n",
    "    ipn[i, j, k] = infections_per_node(x)\n",
    "\n",
    "    psmat[i, j, k] = posterior_similarity(A, samples)\n",
    "    spsmat[i, j, k] = samplewise_posterior_similarity(A, samples)"
   ]
  },
  {
   "cell_type": "code",
   "execution_count": null,
   "metadata": {},
   "outputs": [],
   "source": [
    "l = [\"Simple contagion\", \"Threshold contagion, tau=2\", \"Threshold contagion, tau=3\"]\n",
    "\n",
    "for i in c_dict:\n",
    "    ps_mean = np.mean(psmat, axis=2)[c_dict[i]]\n",
    "    ps_std = np.std(psmat, axis=2)[c_dict[i]]\n",
    "    ipn_mean = np.mean(ipn, axis=2)[c_dict[i]]\n",
    "    plt.plot(plist, ps_mean, label=l[i])\n",
    "    plt.fill_between(plist, ps_mean - ps_std, ps_mean + ps_std, alpha=0.4)\n",
    "plt.legend()\n",
    "plt.xlabel(\"p (for Erdos-Renyi)\")\n",
    "plt.ylabel(\"PS\")"
   ]
  },
  {
   "cell_type": "code",
   "execution_count": null,
   "metadata": {},
   "outputs": [],
   "source": [
    "l = [\"Simple contagion\", \"Threshold contagion, tau=2\", \"Threshold contagion, tau=3\"]\n",
    "\n",
    "for i in c_dict:\n",
    "    ps_mean = np.mean(psmat, axis=2)[c_dict[i]]\n",
    "    ps_std = np.std(psmat, axis=2)[c_dict[i]]\n",
    "    ipn_mean = np.mean(ipn, axis=2)[c_dict[i]]\n",
    "    plt.plot(ipn_mean, ps_mean, label=l[i])\n",
    "    plt.fill_between(ipn_mean, ps_mean - ps_std, ps_mean + ps_std, alpha=0.4)\n",
    "# plt.legend()\n",
    "plt.ylim([0, 1])\n",
    "plt.xlabel(\"mean infections per node\")\n",
    "plt.ylabel(\"PS\")"
   ]
  },
  {
   "cell_type": "code",
   "execution_count": null,
   "metadata": {},
   "outputs": [],
   "source": [
    "l = [\"Simple contagion\", \"Threshold contagion, tau=2\", \"Threshold contagion, tau=3\"]\n",
    "\n",
    "for i in c_dict:\n",
    "    ps_mean = np.mean(spsmat, axis=2)[c_dict[i]]\n",
    "    ps_std = np.std(spsmat, axis=2)[c_dict[i]]\n",
    "    plt.plot(plist, ps_mean, label=l[i])\n",
    "    plt.fill_between(plist, ps_mean - ps_std, ps_mean + ps_std, alpha=0.4)\n",
    "plt.legend()\n",
    "plt.xlabel(\"p (for Erdos-Renyi)\")\n",
    "plt.ylabel(\"PS\")"
   ]
  },
  {
   "cell_type": "code",
   "execution_count": null,
   "metadata": {},
   "outputs": [],
   "source": []
  }
 ],
 "metadata": {
  "kernelspec": {
   "display_name": "hyper",
   "language": "python",
   "name": "python3"
  },
  "language_info": {
   "codemirror_mode": {
    "name": "ipython",
    "version": 3
   },
   "file_extension": ".py",
   "mimetype": "text/x-python",
   "name": "python",
   "nbconvert_exporter": "python",
   "pygments_lexer": "ipython3",
   "version": "3.10.0"
  },
  "orig_nbformat": 4
 },
 "nbformat": 4,
 "nbformat_minor": 2
}
