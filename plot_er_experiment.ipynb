{
 "cells": [
  {
   "cell_type": "code",
   "execution_count": null,
   "metadata": {},
   "outputs": [],
   "source": [
    "import numpy as np\n",
    "import matplotlib.pyplot as plt\n",
    "from lcs import *\n",
    "import os\n",
    "import json"
   ]
  },
  {
   "cell_type": "code",
   "execution_count": null,
   "metadata": {},
   "outputs": [],
   "source": [
    "fname = \"Data/watts-strogatz.json\"\n",
    "fname = \"Data/erdos-renyi.json\"\n",
    "\n",
    "with open(fname) as file:\n",
    "    data = json.load(file)\n",
    "p = np.array(data[\"p\"], dtype=float)\n",
    "ps = np.array(data[\"ps\"], dtype=float)\n",
    "sps = np.array(data[\"sps\"], dtype=float)"
   ]
  },
  {
   "cell_type": "code",
   "execution_count": null,
   "metadata": {},
   "outputs": [],
   "source": [
    "l = [\"Simple contagion\", \"Threshold contagion, tau=2\", \"Threshold contagion, tau=3\"]\n",
    "\n",
    "for i in range(ps.shape[0]):\n",
    "    ps_mean = np.mean(ps, axis=2)[i]\n",
    "    ps_std = np.std(ps, axis=2)[i]\n",
    "    plt.plot(p, ps_mean, label=l[i])\n",
    "    plt.fill_between(p, ps_mean - ps_std, ps_mean + ps_std, alpha=0.4)\n",
    "plt.legend()\n",
    "plt.xlabel(\"p (for Erdos-Renyi)\")\n",
    "plt.ylabel(\"PS\")"
   ]
  },
  {
   "cell_type": "code",
   "execution_count": null,
   "metadata": {},
   "outputs": [],
   "source": [
    "l = [\"Simple contagion\", \"Threshold contagion, tau=2\", \"Threshold contagion, tau=3\"]\n",
    "\n",
    "for i in range(sps.shape[0]):\n",
    "    ps_mean = np.mean(sps, axis=2)[i]\n",
    "    ps_std = np.std(sps, axis=2)[i]\n",
    "    plt.plot(p, ps_mean, label=l[i])\n",
    "    plt.fill_between(p, ps_mean - ps_std, ps_mean + ps_std, alpha=0.4)\n",
    "plt.legend()\n",
    "plt.xlabel(\"p (for Erdos-Renyi)\")\n",
    "plt.ylabel(\"PS\")"
   ]
  },
  {
   "cell_type": "code",
   "execution_count": null,
   "metadata": {},
   "outputs": [],
   "source": []
  }
 ],
 "metadata": {
  "kernelspec": {
   "display_name": "hyper",
   "language": "python",
   "name": "python3"
  },
  "language_info": {
   "codemirror_mode": {
    "name": "ipython",
    "version": 3
   },
   "file_extension": ".py",
   "mimetype": "text/x-python",
   "name": "python",
   "nbconvert_exporter": "python",
   "pygments_lexer": "ipython3",
   "version": "3.10.0"
  },
  "orig_nbformat": 4
 },
 "nbformat": 4,
 "nbformat_minor": 2
}
