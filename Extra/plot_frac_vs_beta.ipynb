{
 "cells": [
  {
   "cell_type": "code",
   "execution_count": null,
   "metadata": {},
   "outputs": [],
   "source": [
    "import json\n",
    "\n",
    "import matplotlib.pyplot as plt\n",
    "import numpy as np\n",
    "\n",
    "from lcs import *"
   ]
  },
  {
   "cell_type": "code",
   "execution_count": null,
   "metadata": {},
   "outputs": [],
   "source": [
    "with open(\"Data/frac_vs_beta.json\") as file:\n",
    "    data = json.load(file)\n",
    "beta = np.array(data[\"beta\"], dtype=float)\n",
    "frac = np.array(data[\"fraction\"], dtype=float)\n",
    "ps = np.array(data[\"ps\"], dtype=float)\n",
    "sps = np.array(data[\"sps\"], dtype=float)\n",
    "fce = np.array(data[\"fce\"], dtype=float)"
   ]
  },
  {
   "cell_type": "code",
   "execution_count": null,
   "metadata": {},
   "outputs": [],
   "source": [
    "import cmasher as cmr\n",
    "\n",
    "cmap = cmr.sunburst\n",
    "cmap = cmr.ember\n",
    "\n",
    "ps_summary = ps.mean(axis=2).T\n",
    "\n",
    "c = plt.imshow(\n",
    "    to_imshow_orientation(ps_summary),\n",
    "    extent=(min(frac), max(frac), min(beta), max(beta)),\n",
    "    aspect=\"auto\",\n",
    "    cmap=cmap,\n",
    ")\n",
    "plt.xlabel(r\"$f$\")\n",
    "plt.ylabel(r\"$\\beta$\")\n",
    "plt.colorbar(c)"
   ]
  },
  {
   "cell_type": "code",
   "execution_count": null,
   "metadata": {},
   "outputs": [],
   "source": [
    "import cmasher as cmr\n",
    "\n",
    "cmap = cmr.sunburst\n",
    "cmap = cmr.ember\n",
    "\n",
    "sps_summary = sps.mean(axis=2).T\n",
    "\n",
    "c = plt.imshow(\n",
    "    to_imshow_orientation(sps_summary),\n",
    "    extent=(min(frac), max(frac), min(beta), max(beta)),\n",
    "    aspect=\"auto\",\n",
    "    cmap=cmap,\n",
    ")\n",
    "plt.xlabel(r\"$f$\")\n",
    "plt.ylabel(r\"$\\beta$\")\n",
    "plt.colorbar(c)"
   ]
  },
  {
   "cell_type": "code",
   "execution_count": null,
   "metadata": {},
   "outputs": [],
   "source": [
    "import cmasher as cmr\n",
    "\n",
    "cmap = cmr.sunburst\n",
    "cmap = cmr.ember\n",
    "\n",
    "fce_summary = fce.mean(axis=2).T\n",
    "\n",
    "c = plt.imshow(\n",
    "    to_imshow_orientation(fce_summary),\n",
    "    extent=(min(frac), max(frac), min(beta), max(beta)),\n",
    "    aspect=\"auto\",\n",
    "    cmap=cmap,\n",
    ")\n",
    "plt.xlabel(r\"$f$\")\n",
    "plt.ylabel(r\"$\\beta$\")\n",
    "plt.colorbar(c)"
   ]
  },
  {
   "cell_type": "code",
   "execution_count": null,
   "metadata": {},
   "outputs": [],
   "source": []
  }
 ],
 "metadata": {
  "kernelspec": {
   "display_name": "hyper",
   "language": "python",
   "name": "python3"
  },
  "language_info": {
   "codemirror_mode": {
    "name": "ipython",
    "version": 3
   },
   "file_extension": ".py",
   "mimetype": "text/x-python",
   "name": "python",
   "nbconvert_exporter": "python",
   "pygments_lexer": "ipython3",
   "version": "3.10.0"
  },
  "orig_nbformat": 4
 },
 "nbformat": 4,
 "nbformat_minor": 2
}
