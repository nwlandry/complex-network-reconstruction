{
 "cells": [
  {
   "cell_type": "code",
   "execution_count": null,
   "metadata": {},
   "outputs": [],
   "source": [
    "import numpy as np\n",
    "import matplotlib.pyplot as plt\n",
    "from src import *\n",
    "import networkx as nx\n",
    "from scipy.stats import beta\n",
    "import time\n",
    "from numpy.linalg import eigh"
   ]
  },
  {
   "cell_type": "code",
   "execution_count": null,
   "metadata": {},
   "outputs": [],
   "source": [
    "rho0 = 0.1\n",
    "gamma = 1\n",
    "sizes = [20, 30, 40, 50, 60, 70, 80, 90, 100]\n",
    "mean_deg = [2, 3, 4, 5, 6, 7, 8, 9, 10]\n",
    "nsamples = 1000"
   ]
  },
  {
   "cell_type": "code",
   "execution_count": null,
   "metadata": {},
   "outputs": [],
   "source": [
    "# simple contagion\n",
    "conv = {}\n",
    "for n in sizes:\n",
    "    for k in mean_deg:\n",
    "        A = erdos_renyi(n, k)\n",
    "        x0 = np.zeros(n)\n",
    "        x0[random.sample(range(n), int(rho0 * n))] = 1\n",
    "\n",
    "        nu = eigh(A)[0][-1]\n",
    "        b = 2 * gamma / nu\n",
    "\n",
    "        sc = lambda nu, b: 1 - (1 - b) ** nu\n",
    "        c = sc(np.arange(n), b)\n",
    "\n",
    "        x = contagion_process(A, gamma, c, x0, tmin=0, tmax=100)\n",
    "\n",
    "        p_c = np.ones((2, n))\n",
    "        p_rho = np.array([2, 5])\n",
    "\n",
    "        rho0 = beta(p_rho[0], p_rho[1]).rvs()\n",
    "        A0 = nx.adjacency_matrix(nx.fast_gnp_random_graph(n, rho0))\n",
    "        samples, l = infer_adjacency_matrix(\n",
    "            x,\n",
    "            A0,\n",
    "            p_rho,\n",
    "            p_c,\n",
    "            nsamples=nsamples,\n",
    "            burn_in=0,\n",
    "            skip=10,\n",
    "            return_likelihood=True,\n",
    "        )\n",
    "        h = []\n",
    "        for i in range(len(samples)):\n",
    "            h.append(hamming_distance(samples[0], samples[i]))\n",
    "        conv[(n, k)] = h"
   ]
  },
  {
   "cell_type": "code",
   "execution_count": null,
   "metadata": {},
   "outputs": [],
   "source": [
    "plt.figure()\n",
    "for (n, k), h in conv.items():\n",
    "    plt.semilogy(\n",
    "        h,\n",
    "        label=f\"({n}, {k})\",\n",
    "        linewidth=k * 0.25,\n",
    "        color=plt.cm.Blues(n / sizes[-1]),\n",
    "    )\n",
    "plt.title(\"Simple contagion\")\n",
    "plt.xlabel(\"Iteration number\")\n",
    "plt.ylabel(\"Hamming distance\")\n",
    "# plt.savefig(\"Figures/simple_contagion_distances.png\", dpi=1000)\n",
    "# plt.savefig(\"Figures/simple_contagion_distances.pdf\", dpi=1000)"
   ]
  },
  {
   "cell_type": "code",
   "execution_count": null,
   "metadata": {},
   "outputs": [],
   "source": [
    "# threshold contagion\n",
    "nsamples = 20000\n",
    "\n",
    "tau = 3\n",
    "cc = lambda nu, tau, beta: beta * (nu >= tau)\n",
    "c = cc(np.arange(n), tau, b)\n",
    "\n",
    "x = contagion_process(A, gamma, c, x0, tmin=0, tmax=100, random_seed=None)\n",
    "\n",
    "p_c = np.ones((2, n))\n",
    "p_rho = np.array([2, 5])\n",
    "\n",
    "rho0 = beta(p_rho[0], p_rho[1]).rvs()\n",
    "\n",
    "A0 = nx.adjacency_matrix(nx.fast_gnp_random_graph(n, rho0))\n",
    "samples2, l = infer_adjacency_matrix(\n",
    "    x, A0, p_rho, p_c, nsamples=nsamples, burn_in=0, skip=10, return_likelihood=True\n",
    ")"
   ]
  },
  {
   "cell_type": "code",
   "execution_count": null,
   "metadata": {},
   "outputs": [],
   "source": [
    "plt.figure()\n",
    "for i in range(0, int(len(samples2) / 2), 1000):\n",
    "    h = []\n",
    "    idx = []\n",
    "    for j in range(i, len(samples2)):\n",
    "        h.append(hamming_distance(samples2[i], samples2[j]))\n",
    "        idx.append(i + j)\n",
    "    plt.plot(\n",
    "        idx,\n",
    "        h,\n",
    "        label=f\"Distance from iteration {i}\",\n",
    "        linewidth=0.5,\n",
    "        color=plt.cm.RdBu((2 * i / len(samples2))),\n",
    "    )\n",
    "    print(f\"plot {i} finished\")\n",
    "plt.title(\"Threshold contagion\")\n",
    "plt.xlabel(\"Iteration number\")\n",
    "plt.ylabel(\"Hamming distance\")\n",
    "plt.savefig(\"Figures/threshold_contagion_distances.png\", dpi=1000)\n",
    "plt.savefig(\"Figures/threshold_contagion_distances.pdf\", dpi=1000)"
   ]
  },
  {
   "cell_type": "code",
   "execution_count": null,
   "metadata": {},
   "outputs": [],
   "source": []
  }
 ],
 "metadata": {
  "kernelspec": {
   "display_name": "hyper",
   "language": "python",
   "name": "python3"
  },
  "language_info": {
   "codemirror_mode": {
    "name": "ipython",
    "version": 3
   },
   "file_extension": ".py",
   "mimetype": "text/x-python",
   "name": "python",
   "nbconvert_exporter": "python",
   "pygments_lexer": "ipython3",
   "version": "3.10.0"
  },
  "orig_nbformat": 4
 },
 "nbformat": 4,
 "nbformat_minor": 2
}
