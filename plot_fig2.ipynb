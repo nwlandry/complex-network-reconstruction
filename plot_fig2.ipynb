{
 "cells": [
  {
   "cell_type": "code",
   "execution_count": null,
   "metadata": {},
   "outputs": [],
   "source": [
    "import numpy as np\n",
    "import matplotlib.pyplot as plt\n",
    "from lcs import *\n",
    "import os\n",
    "import json\n",
    "import seaborn as sns"
   ]
  },
  {
   "cell_type": "code",
   "execution_count": null,
   "metadata": {},
   "outputs": [],
   "source": [
    "fname = \"Data/erdos-renyi.json\"\n",
    "\n",
    "with open(fname) as file:\n",
    "    data = json.load(file)\n",
    "p_er = np.array(data[\"p\"], dtype=float)\n",
    "ps_er = np.array(data[\"ps\"], dtype=float)\n",
    "sps_er = np.array(data[\"sps\"], dtype=float)"
   ]
  },
  {
   "cell_type": "code",
   "execution_count": null,
   "metadata": {},
   "outputs": [],
   "source": [
    "l = [\"Simple contagion\", \"Threshold contagion, tau=2\", \"Threshold contagion, tau=3\"]\n",
    "\n",
    "for i in range(sps_er.shape[0]):\n",
    "    ps_mean = np.mean(sps_er, axis=2)[i]\n",
    "    ps_std = np.std(sps_er, axis=2)[i]\n",
    "    plt.plot(p_er, ps_mean, \"^-\", label=l[i])\n",
    "    plt.fill_between(p_er, ps_mean - ps_std, ps_mean + ps_std, alpha=0.4)\n",
    "plt.legend()\n",
    "plt.xlabel(\"p (for Erdos-Renyi)\")\n",
    "plt.ylabel(\"PS\")\n",
    "plt.xlim([0, 1])\n",
    "plt.ylim([0, 1])\n",
    "sns.despine()"
   ]
  },
  {
   "cell_type": "code",
   "execution_count": null,
   "metadata": {},
   "outputs": [],
   "source": [
    "fname = \"Data/watts-strogatz.json\"\n",
    "\n",
    "with open(fname) as file:\n",
    "    data = json.load(file)\n",
    "p_ws = np.array(data[\"p\"], dtype=float)\n",
    "ps_ws = np.array(data[\"ps\"], dtype=float)\n",
    "sps_ws = np.array(data[\"sps\"], dtype=float)"
   ]
  },
  {
   "cell_type": "code",
   "execution_count": null,
   "metadata": {},
   "outputs": [],
   "source": [
    "l = [\"Simple contagion\", \"Threshold contagion, tau=2\", \"Threshold contagion, tau=3\"]\n",
    "\n",
    "for i in range(sps_ws.shape[0]):\n",
    "    ps_mean = np.mean(sps_ws, axis=2)[i]\n",
    "    ps_std = np.std(sps_ws, axis=2)[i]\n",
    "    plt.semilogx(p_ws, ps_mean, label=l[i])\n",
    "    plt.fill_between(p_ws, ps_mean - ps_std, ps_mean + ps_std, alpha=0.4)\n",
    "plt.legend()\n",
    "plt.xlabel(\"p (for Erdos-Renyi)\")\n",
    "plt.ylabel(\"PS\")\n",
    "plt.xlim([1e-6, 1])\n",
    "plt.ylim([0, 1])\n",
    "sns.despine()"
   ]
  },
  {
   "cell_type": "code",
   "execution_count": null,
   "metadata": {},
   "outputs": [],
   "source": []
  }
 ],
 "metadata": {
  "kernelspec": {
   "display_name": "hyper",
   "language": "python",
   "name": "python3"
  },
  "language_info": {
   "codemirror_mode": {
    "name": "ipython",
    "version": 3
   },
   "file_extension": ".py",
   "mimetype": "text/x-python",
   "name": "python",
   "nbconvert_exporter": "python",
   "pygments_lexer": "ipython3",
   "version": "3.10.0"
  },
  "orig_nbformat": 4
 },
 "nbformat": 4,
 "nbformat_minor": 2
}
