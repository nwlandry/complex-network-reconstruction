{
 "cells": [
  {
   "cell_type": "code",
   "execution_count": null,
   "metadata": {},
   "outputs": [],
   "source": [
    "import numpy as np\n",
    "import matplotlib.pyplot as plt\n",
    "from lcs import *\n",
    "import os\n",
    "import json\n",
    "import seaborn as sns\n",
    "import fig_settings as fs"
   ]
  },
  {
   "cell_type": "code",
   "execution_count": null,
   "metadata": {},
   "outputs": [],
   "source": [
    "fs.set_fonts({\"font.family\": \"sans-serif\"})\n",
    "models = [\"Erdos-Renyi\", \"SBM\", \"Watts-Strogatz\"]\n",
    "cfs = [\n",
    "    \"Simple contagion\",\n",
    "    r\"Threshold contagion, $\\tau=2$\",\n",
    "    r\"Threshold contagion, $\\tau=3$\",\n",
    "]\n",
    "keys = [\"p\", \"epsilon\", \"p\"]\n",
    "labels = [r\"$p$\", r\"$\\epsilon$\", r\"$p$\"]"
   ]
  },
  {
   "cell_type": "code",
   "execution_count": null,
   "metadata": {},
   "outputs": [],
   "source": [
    "fig, axes = plt.subplots(len(cfs), len(models), figsize=(8, 8))\n",
    "for i, m in enumerate(models):\n",
    "    with open(f\"Data/{m.lower()}.json\") as file:\n",
    "        data = json.load(file)\n",
    "    var = np.array(data[keys[i]], dtype=float)\n",
    "    b = np.array(data[\"beta\"], dtype=float)\n",
    "    sps = np.array(data[\"sps\"], dtype=float)\n",
    "\n",
    "    for j, cf in enumerate(cfs):\n",
    "        # sps_summary = sps[j].max(axis=2).T\n",
    "        # sps_summary = np.median(sps[j].T, axis=2)\n",
    "        sps_summary = sps[j].mean(axis=2).T\n",
    "        im = axes[j, i].imshow(\n",
    "            to_imshow_orientation(sps_summary),\n",
    "            extent=(0, 1, 0, 1),\n",
    "            vmin=0,\n",
    "            vmax=1,\n",
    "        )\n",
    "        axes[j, i].set_xlim([0, 1])\n",
    "        axes[j, i].set_ylim([0, 1])\n",
    "        axes[j, i].set_xticks([0, 0.5, 1], [0, 0.5, 1])\n",
    "        axes[j, i].set_yticks([0, 0.25, 0.5, 0.75, 1], [0, 0.25, 0.5, 0.75, 1])\n",
    "\n",
    "        if j == 0:\n",
    "            axes[j, i].set_title(models[i])\n",
    "        if i == 0:\n",
    "            axes[j, i].set_ylabel(cfs[j])\n",
    "        if j == len(cfs) - 1:\n",
    "            axes[j, i].set_xlabel(labels[i])\n",
    "fig.subplots_adjust(bottom=0.15, top=0.95, left=0.1, right=0.8, wspace=0.3, hspace=0.3)\n",
    "cbar_ax = fig.add_axes([0.82, 0.15, 0.02, 0.8])\n",
    "cbar = fig.colorbar(im, cax=cbar_ax)\n",
    "cbar.set_label(r\"F-Score\", fontsize=12, rotation=270, labelpad=25)\n",
    "\n",
    "plt.savefig(\"Figures/Fig2/generative_models.png\", dpi=1000)\n",
    "plt.savefig(\"Figures/Fig2/generative_models.pdf\", dpi=1000)"
   ]
  },
  {
   "cell_type": "code",
   "execution_count": null,
   "metadata": {},
   "outputs": [],
   "source": [
    "fig, axes = plt.subplots(len(cfs), len(models), figsize=(8, 8))\n",
    "for i, m in enumerate(models):\n",
    "    with open(f\"Data/{m.lower()}.json\") as file:\n",
    "        data = json.load(file)\n",
    "    var = np.array(data[keys[i]], dtype=float)\n",
    "    b = np.array(data[\"beta\"], dtype=float)\n",
    "    fce = np.array(data[\"fce\"], dtype=float)\n",
    "\n",
    "    for j, cf in enumerate(cfs):\n",
    "        fce_summary = fce[j].mean(axis=2).T\n",
    "        im = axes[j, i].imshow(\n",
    "            to_imshow_orientation(fce_summary),\n",
    "            extent=(0, 1, 0, 1),\n",
    "            vmin=0,\n",
    "            vmax=1,\n",
    "        )\n",
    "        axes[j, i].set_xlim([0, 1])\n",
    "        axes[j, i].set_ylim([0, 1])\n",
    "        axes[j, i].set_xticks([0, 0.5, 1], [0, 0.5, 1])\n",
    "        axes[j, i].set_yticks([0, 0.25, 0.5, 0.75, 1], [0, 0.25, 0.5, 0.75, 1])\n",
    "\n",
    "        if j == 0:\n",
    "            axes[j, i].set_title(models[i])\n",
    "        if i == 0:\n",
    "            axes[j, i].set_ylabel(cfs[j])\n",
    "        if j == len(cfs) - 1:\n",
    "            axes[j, i].set_xlabel(labels[i])\n",
    "fig.subplots_adjust(bottom=0.15, top=0.95, left=0.1, right=0.8, wspace=0.3, hspace=0.3)\n",
    "cbar_ax = fig.add_axes([0.82, 0.15, 0.03, 0.8])\n",
    "cbar = fig.colorbar(im, cax=cbar_ax)"
   ]
  },
  {
   "cell_type": "code",
   "execution_count": null,
   "metadata": {},
   "outputs": [],
   "source": []
  }
 ],
 "metadata": {
  "kernelspec": {
   "display_name": "hyper",
   "language": "python",
   "name": "python3"
  },
  "language_info": {
   "codemirror_mode": {
    "name": "ipython",
    "version": 3
   },
   "file_extension": ".py",
   "mimetype": "text/x-python",
   "name": "python",
   "nbconvert_exporter": "python",
   "pygments_lexer": "ipython3",
   "version": "3.10.0"
  },
  "orig_nbformat": 4
 },
 "nbformat": 4,
 "nbformat_minor": 2
}
