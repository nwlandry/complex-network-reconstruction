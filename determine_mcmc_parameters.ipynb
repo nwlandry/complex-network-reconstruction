{
 "cells": [
  {
   "cell_type": "code",
   "execution_count": null,
   "metadata": {},
   "outputs": [],
   "source": [
    "import numpy as np\n",
    "import matplotlib.pyplot as plt\n",
    "from src import *\n",
    "import networkx as nx\n",
    "from scipy.stats import beta\n",
    "import time\n",
    "from numpy.linalg import eigh"
   ]
  },
  {
   "cell_type": "code",
   "execution_count": null,
   "metadata": {},
   "outputs": [],
   "source": [
    "G = nx.karate_club_graph()\n",
    "A = nx.adjacency_matrix(G, weight=None).todense()\n",
    "n = np.size(A, axis=0)"
   ]
  },
  {
   "cell_type": "code",
   "execution_count": null,
   "metadata": {},
   "outputs": [],
   "source": [
    "x0 = np.zeros(n)\n",
    "x0[random.randrange(n)] = 1\n",
    "\n",
    "gamma = 1\n",
    "nu = eigh(A)[0][-1]\n",
    "b = 2 * gamma / nu\n",
    "\n",
    "# simple contagion\n",
    "nsamples = 20000\n",
    "\n",
    "sc = lambda nu, b: 1 - (1 - b) ** nu\n",
    "c = sc(np.arange(n), b)\n",
    "\n",
    "x = contagion_process(A, gamma, c, x0, tmin=0, tmax=100)\n",
    "\n",
    "p_c = np.ones((2, n))\n",
    "p_rho = np.array([2, 5])\n",
    "\n",
    "rho0 = beta(p_rho[0], p_rho[1]).rvs()\n",
    "A0 = nx.adjacency_matrix(nx.fast_gnp_random_graph(n, rho0))\n",
    "samples1, l = infer_adjacency_matrix(\n",
    "    x, A0, p_rho, p_c, nsamples=nsamples, burn_in=0, skip=10, return_likelihood=True\n",
    ")"
   ]
  },
  {
   "cell_type": "code",
   "execution_count": null,
   "metadata": {},
   "outputs": [],
   "source": [
    "plt.figure()\n",
    "for i in range(0, int(len(samples1) / 2), 1000):\n",
    "    h = []\n",
    "    idx = []\n",
    "    for j in range(i, len(samples1)):\n",
    "        h.append(hamming_distance(samples1[i], samples1[j]))\n",
    "        idx.append(i + j)\n",
    "    plt.plot(\n",
    "        idx,\n",
    "        h,\n",
    "        label=f\"Distance from iteration {i}\",\n",
    "        linewidth=0.5,\n",
    "        color=plt.cm.RdBu((2 * i / len(samples1))),\n",
    "    )\n",
    "    print(f\"plot {i} finished\")\n",
    "plt.title(\"Simple contagion\")\n",
    "plt.xlabel(\"Iteration number\")\n",
    "plt.ylabel(\"Hamming distance\")\n",
    "plt.savefig(\"Figures/simple_contagion_distances.png\", dpi=1000)\n",
    "plt.savefig(\"Figures/simple_contagion_distances.pdf\", dpi=1000)"
   ]
  },
  {
   "cell_type": "code",
   "execution_count": null,
   "metadata": {},
   "outputs": [],
   "source": [
    "# threshold contagion\n",
    "nsamples = 20000\n",
    "\n",
    "tau = 3\n",
    "cc = lambda nu, tau, beta: beta * (nu >= tau)\n",
    "c = cc(np.arange(n), tau, b)\n",
    "\n",
    "x = contagion_process(A, gamma, c, x0, tmin=0, tmax=100, random_seed=None)\n",
    "\n",
    "p_c = np.ones((2, n))\n",
    "p_rho = np.array([2, 5])\n",
    "\n",
    "rho0 = beta(p_rho[0], p_rho[1]).rvs()\n",
    "\n",
    "A0 = nx.adjacency_matrix(nx.fast_gnp_random_graph(n, rho0))\n",
    "samples2, l = infer_adjacency_matrix(\n",
    "    x, A0, p_rho, p_c, nsamples=nsamples, burn_in=0, skip=10, return_likelihood=True\n",
    ")"
   ]
  },
  {
   "cell_type": "code",
   "execution_count": null,
   "metadata": {},
   "outputs": [],
   "source": [
    "plt.figure()\n",
    "for i in range(0, int(len(samples2) / 2), 1000):\n",
    "    h = []\n",
    "    idx = []\n",
    "    for j in range(i, len(samples2)):\n",
    "        h.append(hamming_distance(samples2[i], samples2[j]))\n",
    "        idx.append(i + j)\n",
    "    plt.plot(\n",
    "        idx,\n",
    "        h,\n",
    "        label=f\"Distance from iteration {i}\",\n",
    "        linewidth=0.5,\n",
    "        color=plt.cm.RdBu((2 * i / len(samples2))),\n",
    "    )\n",
    "    print(f\"plot {i} finished\")\n",
    "plt.title(\"Threshold contagion\")\n",
    "plt.xlabel(\"Iteration number\")\n",
    "plt.ylabel(\"Hamming distance\")\n",
    "plt.savefig(\"Figures/threshold_contagion_distances.png\", dpi=1000)\n",
    "plt.savefig(\"Figures/threshold_contagion_distances.pdf\", dpi=1000)"
   ]
  },
  {
   "cell_type": "code",
   "execution_count": null,
   "metadata": {},
   "outputs": [],
   "source": []
  }
 ],
 "metadata": {
  "kernelspec": {
   "display_name": "hyper",
   "language": "python",
   "name": "python3"
  },
  "language_info": {
   "codemirror_mode": {
    "name": "ipython",
    "version": 3
   },
   "file_extension": ".py",
   "mimetype": "text/x-python",
   "name": "python",
   "nbconvert_exporter": "python",
   "pygments_lexer": "ipython3",
   "version": "3.11.5"
  },
  "orig_nbformat": 4
 },
 "nbformat": 4,
 "nbformat_minor": 2
}
