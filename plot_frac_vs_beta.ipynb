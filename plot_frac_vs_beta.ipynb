{
 "cells": [
  {
   "cell_type": "code",
   "execution_count": null,
   "metadata": {},
   "outputs": [],
   "source": [
    "import matplotlib.pyplot as plt\n",
    "import json\n",
    "import numpy as np\n",
    "from lcs import *"
   ]
  },
  {
   "cell_type": "code",
   "execution_count": null,
   "metadata": {},
   "outputs": [],
   "source": [
    "with open(\"Data/frac_vs_beta.json\") as file:\n",
    "    data = json.load(file)\n",
    "beta = np.array(data[\"beta\"], dtype=float)\n",
    "ps = np.array(data[\"ps\"], dtype=float)\n",
    "sps = np.array(data[\"sps\"], dtype=float)\n",
    "ipn = np.array(data[\"ipn\"], dtype=float)"
   ]
  },
  {
   "cell_type": "code",
   "execution_count": null,
   "metadata": {},
   "outputs": [],
   "source": [
    "c = plt.imshow(\n",
    "    to_imshow_orientation(np.mean(ps, axis=2)),\n",
    "    extent=(0, 1, min(beta), max(beta)),\n",
    "    aspect=\"auto\",\n",
    ")\n",
    "plt.xlabel(r\"$f$\")\n",
    "plt.ylabel(r\"$\\beta$\")\n",
    "plt.colorbar(c)"
   ]
  }
 ],
 "metadata": {
  "kernelspec": {
   "display_name": "hyper",
   "language": "python",
   "name": "python3"
  },
  "language_info": {
   "codemirror_mode": {
    "name": "ipython",
    "version": 3
   },
   "file_extension": ".py",
   "mimetype": "text/x-python",
   "name": "python",
   "nbconvert_exporter": "python",
   "pygments_lexer": "ipython3",
   "version": "3.10.0"
  },
  "orig_nbformat": 4
 },
 "nbformat": 4,
 "nbformat_minor": 2
}
