{
 "cells": [
  {
   "cell_type": "code",
   "execution_count": null,
   "metadata": {},
   "outputs": [],
   "source": [
    "%load_ext autoreload\n",
    "%autoreload 2"
   ]
  },
  {
   "cell_type": "code",
   "execution_count": null,
   "metadata": {},
   "outputs": [],
   "source": [
    "import numpy as np\n",
    "import matplotlib.pyplot as plt\n",
    "from lcs import *\n",
    "import networkx as nx\n",
    "from scipy.stats import beta\n",
    "import time"
   ]
  },
  {
   "cell_type": "code",
   "execution_count": null,
   "metadata": {},
   "outputs": [],
   "source": [
    "A = erdos_renyi(50, 0.2)\n",
    "# A = zkc()\n",
    "n = A.shape[0]"
   ]
  },
  {
   "cell_type": "code",
   "execution_count": null,
   "metadata": {},
   "outputs": [],
   "source": [
    "plt.spy(A)"
   ]
  },
  {
   "cell_type": "code",
   "execution_count": null,
   "metadata": {},
   "outputs": [],
   "source": [
    "rho0 = 1\n",
    "\n",
    "x0 = np.zeros(n)\n",
    "x0[list(random.sample(range(n), int(rho0 * n)))] = 1\n",
    "\n",
    "gamma = 0.1\n",
    "b = 0.04\n",
    "\n",
    "contagion_function = lambda nu, b: 1 - (1 - b) ** nu\n",
    "contagion_function = lambda nu, b: b * (nu >= 2)\n",
    "c = contagion_function(np.arange(n), b)\n",
    "\n",
    "x = contagion_process(A, gamma, c, x0, tmin=0, tmax=1000, random_seed=None)"
   ]
  },
  {
   "cell_type": "code",
   "execution_count": null,
   "metadata": {},
   "outputs": [],
   "source": [
    "plt.spy(x.T)"
   ]
  },
  {
   "cell_type": "code",
   "execution_count": null,
   "metadata": {},
   "outputs": [],
   "source": [
    "p_c = np.ones((2, n))\n",
    "\n",
    "p_rho = [1, 1]\n",
    "\n",
    "rho0 = beta(p_rho[0], p_rho[1]).rvs()\n",
    "print(rho0)\n",
    "\n",
    "A0 = erdos_renyi(n, rho0)\n",
    "\n",
    "samples, l = infer_adjacency_matrix(\n",
    "    x, A0, p_rho, p_c, nsamples=100, burn_in=100, skip=150, return_likelihood=True\n",
    ")"
   ]
  },
  {
   "cell_type": "code",
   "execution_count": null,
   "metadata": {},
   "outputs": [],
   "source": [
    "plt.plot(l)"
   ]
  },
  {
   "cell_type": "code",
   "execution_count": null,
   "metadata": {},
   "outputs": [],
   "source": [
    "p = np.mean(samples, axis=0)\n",
    "plt.subplot(121)\n",
    "plt.imshow(p, cmap=\"viridis\", vmin=0, vmax=1)\n",
    "plt.subplot(122)\n",
    "plt.imshow(A, vmin=0, vmax=1)"
   ]
  },
  {
   "cell_type": "code",
   "execution_count": null,
   "metadata": {},
   "outputs": [],
   "source": [
    "samplewise_posterior_similarity(samples, A)"
   ]
  }
 ],
 "metadata": {
  "kernelspec": {
   "display_name": "hyper",
   "language": "python",
   "name": "python3"
  },
  "language_info": {
   "codemirror_mode": {
    "name": "ipython",
    "version": 3
   },
   "file_extension": ".py",
   "mimetype": "text/x-python",
   "name": "python",
   "nbconvert_exporter": "python",
   "pygments_lexer": "ipython3",
   "version": "3.10.0"
  },
  "orig_nbformat": 4,
  "vscode": {
   "interpreter": {
    "hash": "006b130b0afef3e20a59d32b3e368dadb49787729b49e0c4fc1ec3e01c886557"
   }
  }
 },
 "nbformat": 4,
 "nbformat_minor": 2
}
