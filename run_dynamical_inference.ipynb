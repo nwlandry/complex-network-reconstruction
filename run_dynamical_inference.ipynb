{
 "cells": [
  {
   "cell_type": "code",
   "execution_count": null,
   "metadata": {},
   "outputs": [],
   "source": [
    "%load_ext autoreload\n",
    "%autoreload 2"
   ]
  },
  {
   "cell_type": "code",
   "execution_count": null,
   "metadata": {},
   "outputs": [],
   "source": [
    "import numpy as np\n",
    "import matplotlib.pyplot as plt\n",
    "from src import *\n",
    "import networkx as nx\n",
    "from scipy.stats import beta\n",
    "import time"
   ]
  },
  {
   "cell_type": "code",
   "execution_count": null,
   "metadata": {},
   "outputs": [],
   "source": [
    "G = nx.karate_club_graph()\n",
    "G = nx.fast_gnp_random_graph(50, 5.0 / 49)\n",
    "\n",
    "A = nx.adjacency_matrix(G, weight=None)\n",
    "n = np.size(A, axis=0)"
   ]
  },
  {
   "cell_type": "code",
   "execution_count": null,
   "metadata": {},
   "outputs": [],
   "source": [
    "s0 = np.zeros(n)\n",
    "p_s = 1\n",
    "s0[list(random.sample(range(n), int(p_s * n)))] = 1\n",
    "\n",
    "alpha = 0\n",
    "gamma = 0.1\n",
    "b = 0.04\n",
    "\n",
    "contagion_function = lambda nu, b: 1 - (1 - b) ** nu\n",
    "c = contagion_function(np.arange(n), b)\n",
    "\n",
    "x = contagion_process(A, gamma, c, s0, tmin=0, tmax=1000, random_seed=None)"
   ]
  },
  {
   "cell_type": "code",
   "execution_count": null,
   "metadata": {},
   "outputs": [],
   "source": [
    "plt.spy(x.T)"
   ]
  },
  {
   "cell_type": "code",
   "execution_count": null,
   "metadata": {},
   "outputs": [],
   "source": [
    "import cProfile"
   ]
  },
  {
   "cell_type": "code",
   "execution_count": null,
   "metadata": {},
   "outputs": [],
   "source": [
    "p_c = np.ones((2, n))\n",
    "\n",
    "p_rho = [1, 1]\n",
    "\n",
    "rho0 = beta(p_rho[0], p_rho[1]).rvs()\n",
    "print(rho0)\n",
    "\n",
    "A0 = nx.adjacency_matrix(nx.fast_gnp_random_graph(n, rho0))\n",
    "\n",
    "samples, l = infer_adjacency_matrix(\n",
    "    x, A0, p_rho, p_c, nsamples=100, burn_in=10000, skip=1000, return_likelihood=True\n",
    ")"
   ]
  },
  {
   "cell_type": "code",
   "execution_count": null,
   "metadata": {},
   "outputs": [],
   "source": [
    "plt.plot(l)"
   ]
  },
  {
   "cell_type": "code",
   "execution_count": null,
   "metadata": {},
   "outputs": [],
   "source": [
    "p = np.mean(samples, axis=0)\n",
    "plt.subplot(121)\n",
    "plt.imshow(p, cmap=\"viridis\", vmin=0, vmax=1)\n",
    "plt.subplot(122)\n",
    "plt.imshow(A.todense(), vmin=0, vmax=1)"
   ]
  },
  {
   "cell_type": "code",
   "execution_count": null,
   "metadata": {},
   "outputs": [],
   "source": [
    "posterior_similarity(A, samples)"
   ]
  },
  {
   "cell_type": "code",
   "execution_count": null,
   "metadata": {},
   "outputs": [],
   "source": [
    "samples = 1000\n",
    "\n",
    "gamma = np.zeros(samples)\n",
    "c_samples = np.zeros((samples, n))\n",
    "\n",
    "p_rho = np.array([1, 1])\n",
    "p_gamma = np.array([1, 1])\n",
    "p_c = np.ones((2, n))\n",
    "\n",
    "for i in range(1000):\n",
    "    g, b = infer_dynamics(x, A, p_gamma, p_c)\n",
    "    gamma[i] = g\n",
    "    c_samples[i] = b"
   ]
  },
  {
   "cell_type": "code",
   "execution_count": null,
   "metadata": {},
   "outputs": [],
   "source": [
    "plt.figure()\n",
    "plt.subplot(211)\n",
    "plt.title(r\"$\\gamma$\")\n",
    "plt.hist(gamma, bins=100)\n",
    "\n",
    "plt.subplot(212)\n",
    "plt.title(r\"$\\mathbf{c}$\")\n",
    "plt.plot(np.mean(c_samples, axis=0))\n",
    "plt.xlabel(r\"$\\nu$\")\n",
    "plt.plot(c)\n",
    "\n",
    "plt.tight_layout()\n",
    "plt.show()"
   ]
  },
  {
   "cell_type": "code",
   "execution_count": null,
   "metadata": {},
   "outputs": [],
   "source": []
  }
 ],
 "metadata": {
  "kernelspec": {
   "display_name": "hyper",
   "language": "python",
   "name": "python3"
  },
  "language_info": {
   "codemirror_mode": {
    "name": "ipython",
    "version": 3
   },
   "file_extension": ".py",
   "mimetype": "text/x-python",
   "name": "python",
   "nbconvert_exporter": "python",
   "pygments_lexer": "ipython3",
   "version": "3.10.0"
  },
  "orig_nbformat": 4,
  "vscode": {
   "interpreter": {
    "hash": "006b130b0afef3e20a59d32b3e368dadb49787729b49e0c4fc1ec3e01c886557"
   }
  }
 },
 "nbformat": 4,
 "nbformat_minor": 2
}
