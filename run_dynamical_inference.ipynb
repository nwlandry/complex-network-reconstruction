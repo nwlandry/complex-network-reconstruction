{
 "cells": [
  {
   "cell_type": "code",
   "execution_count": 3,
   "metadata": {},
   "outputs": [],
   "source": [
    "%load_ext autoreload\n",
    "%autoreload 2"
   ]
  },
  {
   "cell_type": "code",
   "execution_count": 4,
   "metadata": {},
   "outputs": [],
   "source": [
    "import numpy as np\n",
    "import xgi\n",
    "import matplotlib.pyplot as plt\n",
    "from src import *\n",
    "import networkx as nx"
   ]
  },
  {
   "cell_type": "code",
   "execution_count": 5,
   "metadata": {},
   "outputs": [],
   "source": [
    "G = nx.karate_club_graph()\n",
    "\n",
    "A = nx.adjacency_matrix(G, weight=None)\n",
    "n = np.size(A, axis=0)"
   ]
  },
  {
   "cell_type": "code",
   "execution_count": 6,
   "metadata": {},
   "outputs": [],
   "source": [
    "rho = 0.05\n",
    "save_data = False"
   ]
  },
  {
   "cell_type": "code",
   "execution_count": 29,
   "metadata": {},
   "outputs": [],
   "source": [
    "s0 = np.zeros(n)\n",
    "p_s = 0.1\n",
    "s0[list(random.sample(range(n), int(p_s * n)))] = 1\n",
    "\n",
    "nu = 1\n",
    "\n",
    "c = 2\n",
    "a = 0\n",
    "gamma = 0.2\n",
    "b = 0.4\n",
    "\n",
    "g = lambda I, b : 1 - (1 - b) ** I\n",
    "h = lambda I, a, c : 1/(1 + np.exp(-(I - c)/a)) if a != 0 else I >= c\n",
    "\n",
    "f = lambda I : nu * g(I, b) + (1 - nu) * h(I, a, c)\n",
    "\n",
    "x = contagion_process(A, gamma, beta, f, s0, tmin=0, tmax=200, dt=1, random_seed=None)"
   ]
  },
  {
   "cell_type": "code",
   "execution_count": 30,
   "metadata": {},
   "outputs": [
    {
     "data": {
      "text/plain": [
       "<matplotlib.image.AxesImage at 0x28fb36b00>"
      ]
     },
     "execution_count": 30,
     "metadata": {},
     "output_type": "execute_result"
    },
    {
     "data": {
      "image/png": "[encoded data removed]",
      "text/plain": [
       "<Figure size 640x480 with 1 Axes>"
      ]
     },
     "metadata": {},
     "output_type": "display_data"
    }
   ],
   "source": [
    "plt.spy(x.T)"
   ]
  },
  {
   "cell_type": "code",
   "execution_count": 31,
   "metadata": {},
   "outputs": [
    {
     "name": "stdout",
     "output_type": "stream",
     "text": [
      "Acceptance ratio is 0.0074\n"
     ]
    }
   ],
   "source": [
    "samples = infer_adjacency_matrix(\n",
    "    x, A, beta, f, rho, nsamples=100, burn_in=100, skip=100, return_likelihoods=False\n",
    ")"
   ]
  },
  {
   "cell_type": "code",
   "execution_count": 32,
   "metadata": {},
   "outputs": [
    {
     "data": {
      "text/plain": [
       "<matplotlib.image.AxesImage at 0x28fb86200>"
      ]
     },
     "execution_count": 32,
     "metadata": {},
     "output_type": "execute_result"
    },
    {
     "data": {
      "image/png": "[encoded data removed]",
      "text/plain": [
       "<Figure size 640x480 with 2 Axes>"
      ]
     },
     "metadata": {},
     "output_type": "display_data"
    }
   ],
   "source": [
    "p = np.mean(samples, axis=0)\n",
    "plt.subplot(121)\n",
    "plt.imshow(p)\n",
    "plt.subplot(122)\n",
    "plt.imshow(A.todense())"
   ]
  }
 ],
 "metadata": {
  "kernelspec": {
   "display_name": "hyper",
   "language": "python",
   "name": "python3"
  },
  "language_info": {
   "codemirror_mode": {
    "name": "ipython",
    "version": 3
   },
   "file_extension": ".py",
   "mimetype": "text/x-python",
   "name": "python",
   "nbconvert_exporter": "python",
   "pygments_lexer": "ipython3",
   "version": "3.10.0"
  },
  "orig_nbformat": 4,
  "vscode": {
   "interpreter": {
    "hash": "006b130b0afef3e20a59d32b3e368dadb49787729b49e0c4fc1ec3e01c886557"
   }
  }
 },
 "nbformat": 4,
 "nbformat_minor": 2
}
