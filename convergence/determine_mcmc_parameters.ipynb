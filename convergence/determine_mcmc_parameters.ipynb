{
 "cells": [
  {
   "cell_type": "code",
   "execution_count": null,
   "metadata": {},
   "outputs": [],
   "source": [
    "import numpy as np\n",
    "import matplotlib.pyplot as plt\n",
    "from lcs import *\n",
    "import networkx as nx\n",
    "from scipy.stats import beta\n",
    "from numpy.linalg import eigh"
   ]
  },
  {
   "cell_type": "code",
   "execution_count": null,
   "metadata": {},
   "outputs": [],
   "source": [
    "A = zkc()\n",
    "# A = erdos_renyi(50, 0.5)\n",
    "n = A.shape[0]\n",
    "\n",
    "rho0 = 1\n",
    "tmax = 1000\n",
    "gamma = 0.1\n",
    "x0 = np.zeros(n)\n",
    "x0[random.sample(range(n), k=int(n*rho0))] = 1"
   ]
  },
  {
   "cell_type": "code",
   "execution_count": null,
   "metadata": {},
   "outputs": [],
   "source": [
    "x0 = np.zeros(n)\n",
    "x0[random.randrange(n)] = 1\n",
    "\n",
    "nu = eigh(A)[0][-1]\n",
    "b = 3 * gamma / nu\n",
    "\n",
    "# simple contagion\n",
    "nsamples = 50000\n",
    "skip = 10\n",
    "\n",
    "sc = lambda nu, b: 1 - (1 - b) ** nu\n",
    "c = sc(np.arange(n), b)\n",
    "\n",
    "x1 = contagion_process(A, gamma, c, x0, tmin=0, tmax=tmax)"
   ]
  },
  {
   "cell_type": "code",
   "execution_count": null,
   "metadata": {},
   "outputs": [],
   "source": [
    "plt.spy(x1.T)"
   ]
  },
  {
   "cell_type": "code",
   "execution_count": null,
   "metadata": {},
   "outputs": [],
   "source": [
    "p_c = np.ones((2, n))\n",
    "p_rho = np.array([1, 1])\n",
    "\n",
    "A0 = erdos_renyi(n, 0)\n",
    "samples1, l = infer_adjacency_matrix(\n",
    "    x1, A0, p_rho, p_c, nsamples=nsamples, burn_in=0, skip=skip, return_likelihood=True\n",
    ")"
   ]
  },
  {
   "cell_type": "code",
   "execution_count": null,
   "metadata": {},
   "outputs": [],
   "source": [
    "plt.figure()\n",
    "plt.title(\"Simple contagion\")\n",
    "plt.subplot(211)\n",
    "for i in range(0, int(len(samples1) / 2), 1000):\n",
    "    h = []\n",
    "    idx = []\n",
    "    for j in range(i, len(samples1)):\n",
    "        h.append(hamming_distance(samples1[i], samples1[j]))\n",
    "        idx.append(j * skip)\n",
    "    plt.plot(\n",
    "        idx,\n",
    "        h,\n",
    "        label=f\"Distance from iteration {i}\",\n",
    "        linewidth=0.5,\n",
    "        color=plt.cm.RdBu((2 * i / len(samples1))),\n",
    "    )\n",
    "    print(f\"plot {i} finished\")\n",
    "plt.xlabel(\"Iteration number\")\n",
    "plt.ylabel(\"Hamming distance\")\n",
    "\n",
    "plt.subplot(212)\n",
    "burn_in = 100000\n",
    "burn_in_idx = int(burn_in / skip)\n",
    "h = []\n",
    "idx = []\n",
    "for j in range(burn_in_idx, len(samples1)):\n",
    "    h.append(hamming_distance(samples1[burn_in_idx], samples1[j]))\n",
    "    idx.append((j - burn_in_idx) * skip)\n",
    "plt.plot(idx, h, color=plt.cm.RdBu((2 * burn_in_idx / len(samples1))))\n",
    "plt.xlim([0, 50000])\n",
    "plt.xlabel(\"decorrelation steps\")\n",
    "plt.xlabel(\"Hamming distance\")\n",
    "plt.tight_layout()\n",
    "# plt.savefig(\"Figures/simple_contagion_distances.png\", dpi=1000)\n",
    "# plt.savefig(\"Figures/simple_contagion_distances.pdf\", dpi=1000)"
   ]
  },
  {
   "cell_type": "code",
   "execution_count": null,
   "metadata": {},
   "outputs": [],
   "source": [
    "plt.imshow(samples1.mean(axis=0))"
   ]
  },
  {
   "cell_type": "code",
   "execution_count": null,
   "metadata": {},
   "outputs": [],
   "source": [
    "# threshold contagion\n",
    "tau = 2\n",
    "cc = lambda nu, tau, beta: beta * (nu >= tau)\n",
    "b = 0.2\n",
    "c = cc(np.arange(n), tau, b)\n",
    "\n",
    "x2 = contagion_process(A, gamma, c, x0, tmin=0, tmax=tmax, random_seed=None)"
   ]
  },
  {
   "cell_type": "code",
   "execution_count": null,
   "metadata": {},
   "outputs": [],
   "source": [
    "plt.spy(x2.T)"
   ]
  },
  {
   "cell_type": "code",
   "execution_count": null,
   "metadata": {},
   "outputs": [],
   "source": [
    "p_c = np.ones((2, n))\n",
    "p_rho = np.array([2, 5])\n",
    "A0 = erdos_renyi(n, 0)\n",
    "\n",
    "samples2, l = infer_adjacency_matrix(\n",
    "    x2, A0, p_rho, p_c, nsamples=nsamples, burn_in=0, skip=skip, return_likelihood=True\n",
    ")"
   ]
  },
  {
   "cell_type": "code",
   "execution_count": null,
   "metadata": {},
   "outputs": [],
   "source": [
    "plt.figure()\n",
    "plt.title(\"Threshold contagion\")\n",
    "plt.subplot(211)\n",
    "for i in range(0, int(len(samples2) / 2), 1000):\n",
    "    h = []\n",
    "    idx = []\n",
    "    for j in range(i, len(samples2)):\n",
    "        h.append(hamming_distance(samples2[i], samples2[j]))\n",
    "        idx.append(j * skip)\n",
    "    plt.plot(\n",
    "        idx,\n",
    "        h,\n",
    "        label=f\"Distance from iteration {i}\",\n",
    "        linewidth=0.5,\n",
    "        color=plt.cm.RdBu((2 * i / len(samples2))),\n",
    "    )\n",
    "    print(f\"plot {i} finished\")\n",
    "plt.title(\"Threshold contagion\")\n",
    "plt.xlabel(\"Iteration number\")\n",
    "plt.ylabel(\"Hamming distance\")\n",
    "\n",
    "plt.subplot(212)\n",
    "burn_in = 100000\n",
    "burn_in_idx = int(burn_in / skip)\n",
    "h = []\n",
    "idx = []\n",
    "for j in range(burn_in_idx, len(samples2)):\n",
    "    h.append(hamming_distance(samples2[burn_in_idx], samples2[j]))\n",
    "    idx.append((j - burn_in_idx) * skip)\n",
    "plt.plot(idx, h, color=plt.cm.RdBu((2 * burn_in_idx / len(samples2))))\n",
    "plt.xlim([0, 50000])\n",
    "plt.xlabel(\"decorrelation steps\")\n",
    "plt.xlabel(\"Hamming distance\")\n",
    "plt.tight_layout()\n",
    "# plt.savefig(\"Figures/threshold_contagion_distances.png\", dpi=1000)\n",
    "# plt.savefig(\"Figures/threshold_contagion_distances.pdf\", dpi=1000)"
   ]
  },
  {
   "cell_type": "code",
   "execution_count": null,
   "metadata": {},
   "outputs": [],
   "source": [
    "plt.imshow(samples2.mean(axis=0))"
   ]
  }
 ],
 "metadata": {
  "kernelspec": {
   "display_name": "hyper",
   "language": "python",
   "name": "python3"
  },
  "language_info": {
   "codemirror_mode": {
    "name": "ipython",
    "version": 3
   },
   "file_extension": ".py",
   "mimetype": "text/x-python",
   "name": "python",
   "nbconvert_exporter": "python",
   "pygments_lexer": "ipython3",
   "version": "3.10.0"
  },
  "orig_nbformat": 4
 },
 "nbformat": 4,
 "nbformat_minor": 2
}
