{
 "cells": [
  {
   "cell_type": "code",
   "execution_count": 13,
   "metadata": {},
   "outputs": [],
   "source": [
    "from src import *\n",
    "import networkx as nx\n",
    "import matplotlib.pyplot as plt\n",
    "import xgi\n",
    "import os, warnings\n",
    "\n",
    "warnings.simplefilter(\"ignore\")"
   ]
  },
  {
   "cell_type": "code",
   "execution_count": 4,
   "metadata": {},
   "outputs": [],
   "source": [
    "G = nx.karate_club_graph()\n",
    "\n",
    "A = nx.adjacency_matrix(G, weight=None)\n",
    "n = np.size(A, axis=0)"
   ]
  },
  {
   "cell_type": "code",
   "execution_count": 22,
   "metadata": {},
   "outputs": [
    {
     "name": "stdout",
     "output_type": "stream",
     "text": [
      "0 9\n",
      "0 9\n",
      "0 9\n",
      "0 9\n",
      "0 9\n",
      "0 9\n",
      "0 9\n",
      "0 9\n",
      "0 9\n",
      "0 9\n",
      "1 9\n",
      "1 9\n",
      "1 9\n",
      "1 9\n",
      "1 9\n",
      "1 9\n",
      "1 9\n",
      "1 9\n",
      "1 9\n",
      "1 9\n",
      "2 9\n",
      "2 9\n",
      "2 9\n",
      "2 9\n",
      "2 9\n",
      "2 9\n",
      "2 9\n",
      "2 9\n",
      "2 9\n",
      "2 9\n",
      "3 9\n",
      "3 9\n",
      "3 9\n",
      "3 9\n",
      "3 9\n",
      "3 9\n",
      "3 9\n",
      "3 9\n",
      "3 9\n",
      "3 9\n",
      "4 9\n",
      "4 9\n",
      "4 9\n",
      "4 9\n",
      "4 9\n",
      "4 9\n",
      "4 9\n",
      "4 9\n",
      "4 9\n",
      "4 9\n",
      "5 9\n",
      "5 9\n",
      "5 9\n",
      "5 9\n",
      "5 9\n",
      "5 9\n",
      "5 9\n",
      "5 9\n",
      "5 9\n",
      "5 9\n",
      "6 9\n",
      "6 9\n",
      "6 9\n",
      "6 9\n",
      "6 9\n",
      "6 9\n",
      "6 9\n",
      "6 9\n",
      "6 9\n",
      "6 9\n",
      "7 9\n",
      "7 9\n",
      "7 9\n",
      "7 9\n",
      "7 9\n",
      "7 9\n",
      "7 9\n",
      "7 9\n",
      "7 9\n",
      "7 9\n",
      "8 9\n",
      "8 9\n",
      "8 9\n",
      "8 9\n",
      "8 9\n",
      "8 9\n",
      "8 9\n",
      "8 9\n",
      "8 9\n",
      "8 9\n",
      "9 9\n",
      "9 9\n",
      "9 9\n",
      "9 9\n",
      "9 9\n",
      "9 9\n",
      "9 9\n",
      "9 9\n",
      "9 9\n",
      "9 9\n"
     ]
    }
   ],
   "source": [
    "s0 = np.zeros(n)\n",
    "p_s = 0.2\n",
    "s0[list(random.sample(range(n), int(p_s * n)))] = 1\n",
    "\n",
    "gamma = 1\n",
    "tau = 2\n",
    "b = 0.1\n",
    "\n",
    "contagion_function = lambda nu, b: 1 - (1 - b) ** nu\n",
    "c = contagion_function(np.arange(n), b)\n",
    "\n",
    "# contagion_function = lambda nu, tau, b: (nu >= tau) * b\n",
    "# c = contagion_function(np.arange(n), tau, beta)\n",
    "\n",
    "x = contagion_process(A, gamma, c, s0, tmin=0, tmax=100, random_seed=None)\n",
    "\n",
    "deg = np.linspace(10, 20, 10)\n",
    "epsilon = np.linspace(0, 1, 10)\n",
    "realizations = 10\n",
    "\n",
    "p_c = np.ones((2, n))\n",
    "\n",
    "l = np.zeros((10, 10, realizations))\n",
    "for i, d in enumerate(deg):\n",
    "    for j, e in enumerate(epsilon):\n",
    "        for k in range(realizations):\n",
    "            A = xgi.adjacency_matrix(xgi.uniform_HPPM(n, 2, k, e))\n",
    "            nl, ml = count_all_infection_events(x, A)\n",
    "            l[i, j, k] = dynamics_log_likelihood(nl, ml, p_c)\n",
    "\n",
    "        print(i, k)"
   ]
  },
  {
   "cell_type": "code",
   "execution_count": 23,
   "metadata": {},
   "outputs": [
    {
     "data": {
      "text/plain": [
       "<matplotlib.image.AxesImage at 0x292606f80>"
      ]
     },
     "execution_count": 23,
     "metadata": {},
     "output_type": "execute_result"
    },
    {
     "data": {
      "image/png": "[encoded data removed]",
      "text/plain": [
       "<Figure size 640x480 with 1 Axes>"
      ]
     },
     "metadata": {},
     "output_type": "display_data"
    }
   ],
   "source": [
    "plt.figure()\n",
    "plt.imshow(to_imshow_orientation(np.mean(l, axis=2)))"
   ]
  },
  {
   "cell_type": "code",
   "execution_count": null,
   "metadata": {},
   "outputs": [],
   "source": []
  }
 ],
 "metadata": {
  "kernelspec": {
   "display_name": "hyper",
   "language": "python",
   "name": "python3"
  },
  "language_info": {
   "codemirror_mode": {
    "name": "ipython",
    "version": 3
   },
   "file_extension": ".py",
   "mimetype": "text/x-python",
   "name": "python",
   "nbconvert_exporter": "python",
   "pygments_lexer": "ipython3",
   "version": "3.10.0"
  },
  "orig_nbformat": 4
 },
 "nbformat": 4,
 "nbformat_minor": 2
}
