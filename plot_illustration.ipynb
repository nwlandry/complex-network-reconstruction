{
 "cells": [
  {
   "cell_type": "code",
   "execution_count": null,
   "metadata": {},
   "outputs": [],
   "source": [
    "from lcs import *\n",
    "import xgi\n",
    "import numpy as np\n",
    "import matplotlib.pyplot as plt\n",
    "import fig_settings as fs\n",
    "import matplotlib.cm as cm\n",
    "import seaborn as sns"
   ]
  },
  {
   "cell_type": "code",
   "execution_count": null,
   "metadata": {},
   "outputs": [],
   "source": [
    "fs.set_fonts()"
   ]
  },
  {
   "cell_type": "code",
   "execution_count": null,
   "metadata": {},
   "outputs": [],
   "source": [
    "el = zkc(format=\"edgelist\")\n",
    "H = xgi.Hypergraph(el)\n",
    "A = zkc()\n",
    "n = A.shape[0]\n",
    "\n",
    "i = 13\n",
    "t = 56"
   ]
  },
  {
   "cell_type": "code",
   "execution_count": null,
   "metadata": {},
   "outputs": [],
   "source": [
    "gamma = 0.2\n",
    "b = 0.07\n",
    "contagion_function = lambda nu, b: 1 - (1 - b) ** nu\n",
    "c = contagion_function(np.arange(n), b)\n",
    "x0 = np.zeros(n)\n",
    "x0[0] = 1\n",
    "\n",
    "x = contagion_process(A, gamma, c, x0, tmin=0, tmax=100, random_seed=2)"
   ]
  },
  {
   "cell_type": "code",
   "execution_count": null,
   "metadata": {},
   "outputs": [],
   "source": [
    "infected_color = \"maroon\"\n",
    "susceptible_color = \"white\"\n",
    "subgraph_color = \"black\"\n",
    "graph_color = (0.1, 0.1, 0.1, 0.1)\n",
    "subgraph_node_lc = \"black\"\n",
    "graph_node_lc = (0.3, 0.3, 0.3)\n",
    "\n",
    "sg = H.nodes.memberships(i)\n",
    "nbrs = H.nodes.neighbors(i)\n",
    "nbrs.add(i)\n",
    "\n",
    "pos = xgi.pca_transform(xgi.pairwise_spring_layout(H, seed=5, k=0.3))\n",
    "node_fc = [infected_color if x[t, i] else susceptible_color for i in H.nodes]\n",
    "node_ec = [subgraph_node_lc if n in nbrs else graph_node_lc for n in H.nodes]\n",
    "node_fc[12] = \"green\"\n",
    "\n",
    "dyad_color = [subgraph_color if e in sg else graph_color for e in H.edges]\n",
    "\n",
    "\n",
    "xgi.draw(H, pos=pos, node_size=10, node_fc=node_fc, dyad_color=dyad_color, node_ec=node_ec, node_lw=0.5)\n",
    "plt.savefig(\"Figures/Fig1/graph.svg\", dpi=1000)\n",
    "plt.show()"
   ]
  },
  {
   "cell_type": "code",
   "execution_count": null,
   "metadata": {},
   "outputs": [],
   "source": [
    "plt.imshow(x.T, cmap=cm.Greys, vmin=0, vmax=1, interpolation=\"none\")\n",
    "plt.yticks([0, 10, 20, 30])\n",
    "plt.savefig(\"Figures/Fig1/x.svg\", dpi=1000)\n",
    "plt.show()"
   ]
  },
  {
   "cell_type": "code",
   "execution_count": null,
   "metadata": {},
   "outputs": [],
   "source": [
    "plt.imshow(A, vmin=0, vmax=1, cmap=cm.Greys, interpolation=\"none\")\n",
    "plt.xticks([0, 10, 20, 30])\n",
    "plt.yticks([0, 10, 20, 30])\n",
    "plt.savefig(\"Figures/Fig1/a.svg\", dpi=1000)\n",
    "plt.show()"
   ]
  },
  {
   "cell_type": "code",
   "execution_count": null,
   "metadata": {},
   "outputs": [],
   "source": [
    "kmax = max(degrees(A))"
   ]
  },
  {
   "cell_type": "code",
   "execution_count": null,
   "metadata": {},
   "outputs": [],
   "source": [
    "nu = np.arange(0, kmax, 1)\n",
    "sc = lambda nu, b: 1 - (1 - b) ** nu\n",
    "cc = lambda nu, tau, b: b * (nu >= tau)\n",
    "c1 = sc(nu, b)\n",
    "c2 = cc(nu, 2, 0.2)\n",
    "\n",
    "plt.figure()\n",
    "plt.plot(nu, c1)\n",
    "plt.plot(nu, c2)\n",
    "plt.xlabel(r\"$\\nu$\")\n",
    "plt.ylabel(r\"$P$\")\n",
    "plt.savefig(\"Figures/Fig1/cf.svg\", dpi=1000)\n",
    "sns.despine()"
   ]
  }
 ],
 "metadata": {
  "kernelspec": {
   "display_name": "hyper",
   "language": "python",
   "name": "python3"
  },
  "language_info": {
   "codemirror_mode": {
    "name": "ipython",
    "version": 3
   },
   "file_extension": ".py",
   "mimetype": "text/x-python",
   "name": "python",
   "nbconvert_exporter": "python",
   "pygments_lexer": "ipython3",
   "version": "3.10.0"
  }
 },
 "nbformat": 4,
 "nbformat_minor": 2
}
